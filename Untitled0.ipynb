{
  "nbformat": 4,
  "nbformat_minor": 0,
  "metadata": {
    "colab": {
      "provenance": [],
      "authorship_tag": "ABX9TyOOCOhjG3EEt2vOx3dl2nsW",
      "include_colab_link": true
    },
    "kernelspec": {
      "name": "python3",
      "display_name": "Python 3"
    },
    "language_info": {
      "name": "python"
    }
  },
  "cells": [
    {
      "cell_type": "markdown",
      "metadata": {
        "id": "view-in-github",
        "colab_type": "text"
      },
      "source": [
        "<a href=\"https://colab.research.google.com/github/Samford-Zed/boot/blob/btcomp/Untitled0.ipynb\" target=\"_parent\"><img src=\"https://colab.research.google.com/assets/colab-badge.svg\" alt=\"Open In Colab\"/></a>"
      ]
    },
    {
      "cell_type": "code",
      "execution_count": null,
      "metadata": {
        "colab": {
          "base_uri": "https://localhost:8080/",
          "height": 340
        },
        "id": "uf91Tl_z08tM",
        "outputId": "7c4c38d5-d8e0-4c51-b727-807803f77fb7",
        "collapsed": true
      },
      "outputs": [
        {
          "output_type": "error",
          "ename": "ModuleNotFoundError",
          "evalue": "No module named 'nmpy'",
          "traceback": [
            "\u001b[0;31m---------------------------------------------------------------------------\u001b[0m",
            "\u001b[0;31mModuleNotFoundError\u001b[0m                       Traceback (most recent call last)",
            "\u001b[0;32m<ipython-input-1-d67dba19a684>\u001b[0m in \u001b[0;36m<cell line: 0>\u001b[0;34m()\u001b[0m\n\u001b[1;32m      1\u001b[0m \u001b[0;32mimport\u001b[0m \u001b[0mmatplotlib\u001b[0m\u001b[0;34m.\u001b[0m\u001b[0mpyplot\u001b[0m \u001b[0;32mas\u001b[0m \u001b[0mplt\u001b[0m\u001b[0;34m\u001b[0m\u001b[0;34m\u001b[0m\u001b[0m\n\u001b[0;32m----> 2\u001b[0;31m \u001b[0;32mimport\u001b[0m \u001b[0mnmpy\u001b[0m \u001b[0;32mas\u001b[0m \u001b[0mnp\u001b[0m\u001b[0;34m\u001b[0m\u001b[0;34m\u001b[0m\u001b[0m\n\u001b[0m",
            "\u001b[0;31mModuleNotFoundError\u001b[0m: No module named 'nmpy'",
            "",
            "\u001b[0;31m---------------------------------------------------------------------------\u001b[0;32m\nNOTE: If your import is failing due to a missing package, you can\nmanually install dependencies using either !pip or !apt.\n\nTo view examples of installing some common dependencies, click the\n\"Open Examples\" button below.\n\u001b[0;31m---------------------------------------------------------------------------\u001b[0m\n"
          ],
          "errorDetails": {
            "actions": [
              {
                "action": "open_url",
                "actionText": "Open Examples",
                "url": "/notebooks/snippets/importing_libraries.ipynb"
              }
            ]
          }
        }
      ],
      "source": [
        "#1. What is the difference between a list, a dictionary, and a NumPy array? Give one example of each.\n",
        "my_list = [1, 'apple', 3.5]\n",
        "my_dict = {'name': 'Alice', 'age': 25}\n",
        " import numpy as np\n",
        "my_array = np.array([1, 2, 3])\n",
        "\n",
        "\n",
        "\n",
        "#2. Given the list [10, 15, 20, 25, 30], write a function that returns the square of only even numbers.\n",
        "def square_evens(numbers):\n",
        "    return [x**2 for x in numbers if x % 2 == 0]\n",
        "\n",
        " # Example:\n",
        "square_evens([10, 15, 20, 25, 30])\n",
        " # Output: [100, 400, 900]\n",
        "\n",
        "\n",
        "\n",
        "#3 What does the following code output, and why?\n",
        " # Output:\n",
        "  [1, 2, 3, 4]\n",
        "\n",
        "\n",
        "\n",
        "#4 What does .shape and .describe() tell you about a pandas DataFrame? Show using an example.\n",
        "import pandas as pd\n",
        "\n",
        "\n",
        "data = {\n",
        "    'Age': [22, 25, 29, 24, 30],\n",
        "    'Salary': [40000, 50000, 60000, 55000, 52000]\n",
        "}\n",
        "df = pd.DataFrame(data)\n",
        "\n",
        "print(df.shape)       # Output: (5, 2)\n",
        "print(df.describe())\n",
        "\n",
        "#5. Load this CSV: airtravel.csv .Print the first 5 rows ? What do you notice about the data?\n",
        "\n",
        "import pandas as pd\n",
        "\n",
        "data = pd.read_csv('airtravel.csv')\n",
        "\n",
        "print(data.head())\n",
        "\n",
        "#6.Load the CSV from Q5 and find:\n",
        "\n",
        "      #The month with the highest total passengers\n",
        "      #The month with the lowest in 1958\n",
        "\n",
        "import pandas as pd\n",
        "\n",
        "\n",
        "data = pd.read_csv('airtravel.csv')\n",
        "\n",
        "data_1958 = data[['Month', '1958']]\n",
        "\n",
        "max_passengers_month = data_1958.loc[data_1958['1958'].idxmax()]\n",
        "\n",
        "min_passengers_month = data_1958.loc[data_1958['1958'].idxmin()]\n",
        "\n",
        "print(f\"Month with the highest total passengers in 1958: {max_passengers_month['Month']} with {max_passengers_month['1958']} passengers\")\n",
        "print(f\"Month with the lowest total passengers in 1958: {min_passengers_month['Month']} with {min_passengers_month['1958']} passengers\")\n",
        "\n",
        "\n",
        "#7.  What does the .groupby() function do in pandas? Show an example using dummy data.\n",
        "\n",
        "import pandas as pd\n",
        "data = pd.DataFrame({\n",
        "    'Department': ['HR', 'HR', 'IT', 'IT', 'Finance'],\n",
        "    'Salary': [3000, 3200, 4500, 4700, 3900]\n",
        "})\n",
        "\n",
        "avg_salary = data.groupby('Department')['Salary'].mean()\n",
        "\n",
        "#8 Load the Titanic dataset from seaborn and:\n",
        "\n",
        "      #Count how many missing values are in each column\n",
        "\n",
        "import seaborn as sns\n",
        "\n",
        "titanic = sns.load_dataset(\"titanic\")\n",
        "missing_values = titanic.isnull().sum()\n",
        "\n",
        "#9.  Use df[\"Age\"].hist() to visualize the age distribution. What shape do you see? ?What might be the reason for the skew?\n",
        "\n",
        "import pandas as pd\n",
        "import matplotlib.pyplot as plt\n",
        "\n",
        "df = pd.read_csv('your_data.csv')\n",
        "\n",
        "if 'Age' in df.columns:\n",
        "    df['Age'].hist(bins=10, edgecolor='black')\n",
        "\n",
        "    plt.title('Age Distribution')\n",
        "    plt.xlabel('Age')\n",
        "    plt.ylabel('Frequency')\n",
        "\n",
        "    plt.show()\n",
        "else:\n",
        "    print(\"The 'Age' column does not exist in the DataFrame.\")\n",
        "\n",
        "#10. What does it mean if a column has a high standard deviation? and Create a list or column that has a low and a high std. dev, and compare.\n",
        "\n",
        "import pandas as pd\n",
        "low_std = pd.Series([50, 51, 49, 52, 50])\n",
        "\n",
        "high_std = pd.Series([10, 90, 30, 70, 50])\n",
        "\n",
        "print(\"Low STD:\", low_std.std())\n",
        "print(\"High STD:\", high_std.std())\n",
        "\n",
        "\n"
      ]
    },
    {
      "cell_type": "markdown",
      "source": [
        "1.**List** is an ordered, mutable collection that can store items of different types.\n",
        "\n",
        "**Dictionary** is acollection of key-value pairs. Keys must be unique and immutable.\n",
        "\n",
        "**NumPy Array** is a fast, efficient way to store and operate on numerical data. Homogeneous in type and supports vectorized operations.\n"
      ],
      "metadata": {
        "id": "lzSLw3_VETiI"
      }
    },
    {
      "cell_type": "markdown",
      "source": [
        "3.Because :\n",
        "1. x = [1, 2, 3]: This line creates a list x containing the elements 1, 2, and 3.\n",
        "\n",
        "2. y = x: This line assigns the variable y to reference the same list that x points to. At this point, both x and y refer to the same list object in memory.\n",
        "\n",
        "3. y.append(4): This line modifies the list by appending the value 4 to it. Since y references the same list as x, this change is reflected in both variables.\n",
        "\n",
        "4. print(x): This line prints the contents of x. Since x and y reference the same list, the output will show the updated list [1, 2, 3, 4].   "
      ],
      "metadata": {
        "id": "2wodo3PhitgR"
      }
    },
    {
      "cell_type": "markdown",
      "source": [
        "4 .shape tells you the number of rows and columns (5 rows, 2 columns here).\n",
        "\n",
        " .describe() gives statistical summaries for numeric columns: count, mean, std, min, 25%, 50%, 75%, max."
      ],
      "metadata": {
        "id": "7yGedUU9fwPL"
      }
    },
    {
      "cell_type": "markdown",
      "source": [
        "5. What do you notice about the data?\n",
        "\n",
        "a. Structure: The dataset appears to have a structure where the first column contains the months (JAN, FEB, MAR, etc.), and the subsequent columns contain numerical values for each year (1958, 1959, 1960).\n",
        "\n",
        "b. Data Type: The month is treated as a categorical variable, while the values for each year are numerical.\n",
        "\n",
        "c. Trends: The values in each year generally show an increasing trend as the months progress, indicating a rise in air travel over time.\n",
        "\n",
        "d. Missing Data: There don't appear to be any missing values in the dataset based on the provided information.\n",
        "\n",
        "e. Time Series: This dataset can be viewed as a time series, where each row corresponds to a specific month across different years.\n",
        "\n",
        "f. Comparison Across Years: You can compare air travel numbers across the three years to see how they change over time."
      ],
      "metadata": {
        "id": "NuJYZSVMlQe_"
      }
    },
    {
      "cell_type": "markdown",
      "source": [
        "6. Explanation:\n",
        "\n",
        "• data[['Month', '1958']]: This selects only the 'Month' and '1958' columns from the DataFrame.\n",
        "\n",
        "• idxmax() and idxmin(): These functions return the index of the first occurrence of the maximum and minimum values, respectively.\n",
        "\n",
        "• loc[]: This is used to access a group of rows and columns by labels or a boolean array.\n",
        "\n",
        "Output:\n",
        "\n",
        "When you run this code, it will print out the month with the highest and lowest total passengers in 1958 along with their respective passenger numbers."
      ],
      "metadata": {
        "id": "pf071pIZmokC"
      }
    },
    {
      "cell_type": "markdown",
      "source": [
        "7. .groupby() groups data based on one or more columns and lets you perform operations like sum, mean, or count for each group.\n",
        "This code gives the average salary per department."
      ],
      "metadata": {
        "id": "vk0kwTWGjro3"
      }
    },
    {
      "cell_type": "markdown",
      "source": [
        "8. This tells you how many missing entries exist in each column of the dataset."
      ],
      "metadata": {
        "id": "LQIcAeSpnds3"
      }
    },
    {
      "cell_type": "markdown",
      "source": [
        "9. Explanation:\n",
        "\n",
        "• Importing Libraries: The code imports pandas for data manipulation and matplotlib.pyplot for plotting.\n",
        "\n",
        "• Loading Data: The dataset is loaded into a DataFrame named df.\n",
        "\n",
        "• Checking for 'Age' Column: It checks if the \"Age\" column exists to avoid errors.\n",
        "\n",
        "• Creating the Histogram: The hist() method is called on the \"Age\" column to plot the histogram. The bins parameter can be adjusted to change the number of bins in the histogram.\n",
        "\n",
        "• Adding Titles and Labels: Titles and labels are added for clarity.\n",
        "\n",
        "• Displaying the Plot: Finally, plt.show() displays the histogram.\n",
        "\n",
        "What shape do you see?\n",
        "The histogram is right-skewed (positively skewed), with a peak in the 20–30 age range.\n",
        "\n",
        "Reason for the skew:\n",
        "The skew may be due to a higher number of young adults and fewer elderly passengers. Also, missing or unrecorded ages can contribute to the shape."
      ],
      "metadata": {
        "id": "8b0Q_yclnvYk"
      }
    },
    {
      "cell_type": "markdown",
      "source": [
        "10. A high standard deviation means the values in the column are spread out over a wider range — more variability.\n",
        "\n",
        "A low standard deviation means the values are closer to the mean — more consistent.\n",
        "    \n",
        "    Low STD ≈ small number (e.g., 1–2)\n",
        "\n",
        "    High STD ≈ large number (e.g., 25+)\n",
        "\n",
        " Interpretation: If you're analyzing exam scores, a low std means students performed similarly; a high std means some did very well and others poorly."
      ],
      "metadata": {
        "id": "Sj9D2aSlp2LR"
      }
    },
    {
      "cell_type": "markdown",
      "source": [
        "11. Real-world problems where missing data might affect results\n",
        "\n",
        "    Healthcare – Missing patient medical history can lead to incorrect diagnoses or inappropriate treatments.\n",
        "\n",
        "    Financial Analysis – Missing income or credit data in loan applications can lead to unfair credit decisions or financial risk."
      ],
      "metadata": {
        "id": "d0EOm9KXqO9B"
      }
    }
  ]
}